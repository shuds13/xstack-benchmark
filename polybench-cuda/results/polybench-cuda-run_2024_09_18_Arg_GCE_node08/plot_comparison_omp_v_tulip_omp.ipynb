{
 "cells": [
  {
   "cell_type": "code",
   "execution_count": null,
   "id": "0",
   "metadata": {},
   "outputs": [],
   "source": [
    "# Run this cell to obtain files (e.g., if on colab)\n",
    "import requests\n",
    "base_url = \"https://raw.githubusercontent.com/shuds13/xstack-benchmark/main/polybench-cuda/results/polybench-cuda-run_2024_09_18_Arg_GCE_node08/\"\n",
    "filenames = ['benchmark_results_clang.csv', 'benchmark_results_gcc.csv', 'run.out']\n",
    "\n",
    "for filename in filenames:\n",
    "    url = base_url + filename\n",
    "    response = requests.get(url)\n",
    "    with open(filename, 'wb') as f:\n",
    "        f.write(response.content)"
   ]
  },
  {
   "cell_type": "code",
   "execution_count": null,
   "id": "1",
   "metadata": {},
   "outputs": [],
   "source": [
    "%matplotlib inline\n",
    "\n",
    "import csv\n",
    "import matplotlib.pyplot as plt\n",
    "import matplotlib.ticker as ticker\n",
    "\n",
    "def plot_from_csv(compiler):\n",
    "    csv_file = f'benchmark_results_{compiler}.csv'\n",
    "    benchmarks = []\n",
    "    tulip_speedups = []\n",
    "    noelle_speedups = []\n",
    "\n",
    "    # Read data from CSV\n",
    "    with open(csv_file, mode='r') as csvfile:\n",
    "        reader = csv.DictReader(csvfile)\n",
    "        for row in reader:\n",
    "            bmark = row['benchmark']\n",
    "            openmp_time = float(row['openmp_time'])\n",
    "            tulip_time = float(row['tulip_time']) if row['tulip_time'] else None\n",
    "            noelle_time = float(row['noelle_time']) if row['noelle_time'] else None\n",
    "\n",
    "            # Compute speedups\n",
    "            tulip_speedup = openmp_time / tulip_time if tulip_time else 0\n",
    "            noelle_speedup = openmp_time / noelle_time if noelle_time else 0\n",
    "\n",
    "            benchmarks.append(bmark)\n",
    "            tulip_speedups.append(tulip_speedup)\n",
    "            noelle_speedups.append(noelle_speedup)\n",
    "\n",
    "    # Plot the bar chart\n",
    "    if benchmarks:\n",
    "        width = 0.35  # the width of the bars\n",
    "        fig, ax = plt.subplots(figsize=(12, 6))\n",
    "        x = range(len(benchmarks))\n",
    "\n",
    "        ax.bar(x, tulip_speedups, width, label=f'tulip.{compiler} speedup')\n",
    "        ax.bar([p + width for p in x], noelle_speedups, width, label=f'tulip.{compiler}.noelle speedup')\n",
    "\n",
    "        # Set the y-axis to use integer ticks\n",
    "        ax.yaxis.set_major_locator(ticker.MultipleLocator(1))\n",
    "        ax.set_ylim(0, max(int(max(tulip_speedups + noelle_speedups, default=0)), 3) + 1)\n",
    "\n",
    "        # Add gridlines at every integer\n",
    "        ax.grid(True, which='both', axis='y', linestyle='-', color='gray', linewidth=0.5)\n",
    "        ax.axhline(1, color='black', linewidth=1.5, label='Speedup = 1')\n",
    "\n",
    "        ax.set_ylabel('Speedup relative to original OpenMP')\n",
    "        ax.set_title(f'OpenMP on CPU ({compiler}): Speedup of OpenMP transpiled from CUDA vs. original OpenMP')\n",
    "        ax.set_xticks([p + width / 2 for p in x])\n",
    "        ax.set_xticklabels(benchmarks, rotation=70)\n",
    "        ax.legend()\n",
    "\n",
    "        plt.tight_layout()\n",
    "        plt.show()\n",
    "        plt.close()\n",
    "    else:\n",
    "        print('No benchmarks to display.')\n",
    "\n"
   ]
  },
  {
   "cell_type": "code",
   "execution_count": null,
   "id": "2",
   "metadata": {},
   "outputs": [],
   "source": [
    "compiler = 'clang' \n",
    "plot_from_csv(compiler)\n"
   ]
  },
  {
   "cell_type": "code",
   "execution_count": null,
   "id": "3",
   "metadata": {},
   "outputs": [],
   "source": [
    "compiler = 'gcc'\n",
    "plot_from_csv(compiler)\n"
   ]
  },
  {
   "cell_type": "code",
   "execution_count": null,
   "id": "4",
   "metadata": {},
   "outputs": [],
   "source": [
    "# Check results: Show any runs that had an output mismatch to sequential\n",
    "try:\n",
    "    with open('run.out', 'r') as file:\n",
    "        for line in file:\n",
    "            # Check if the line starts with \"Output mismatch\"\n",
    "            if line.startswith('Output mismatch'):\n",
    "                print(line.strip())\n",
    "except FileNotFoundError:\n",
    "    print(\"The file 'run.out' was not found.\")"
   ]
  }
 ],
 "metadata": {
  "kernelspec": {
   "display_name": "Python 3 (ipykernel)",
   "language": "python",
   "name": "python3"
  },
  "language_info": {
   "codemirror_mode": {
    "name": "ipython",
    "version": 3
   },
   "file_extension": ".py",
   "mimetype": "text/x-python",
   "name": "python",
   "nbconvert_exporter": "python",
   "pygments_lexer": "ipython3",
   "version": "3.9.5"
  }
 },
 "nbformat": 4,
 "nbformat_minor": 5
}
